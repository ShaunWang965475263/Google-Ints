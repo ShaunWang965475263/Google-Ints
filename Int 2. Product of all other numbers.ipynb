{
 "cells": [
  {
   "cell_type": "markdown",
   "metadata": {},
   "source": [
    "#### You have a list of integers, and for each index you want to find the product of every integer except the integer at that index.\n",
    "\n",
    "Write a function get_products_of_all_ints_except_at_index() that takes a list of integers and returns a list of the products.\n",
    "\n",
    "For example, given:\n",
    "\n",
    "  [1, 7, 3, 4]\n",
    "\n",
    "your function would return:\n",
    "\n",
    "  [84, 12, 28, 21]\n",
    "\n",
    "by calculating:\n",
    "\n",
    "  [7 * 3 * 4,  1 * 3 * 4,  1 * 7 * 4,  1 * 7 * 3]\n",
    "\n",
    "Do not use division in your solution."
   ]
  },
  {
   "cell_type": "code",
   "execution_count": null,
   "metadata": {},
   "outputs": [],
   "source": []
  },
  {
   "cell_type": "code",
   "execution_count": null,
   "metadata": {},
   "outputs": [],
   "source": []
  },
  {
   "cell_type": "markdown",
   "metadata": {},
   "source": [
    "The idea is to use the product of array before the index and using one parameter to go through the list backward to multiply the already found product array before the index. "
   ]
  },
  {
   "cell_type": "code",
   "execution_count": 24,
   "metadata": {},
   "outputs": [],
   "source": [
    "def get_products_of_all_ints_except_at_index(int_list):\n",
    "    if len(int_list) < 2:\n",
    "        raise IndexError('Getting the product of numbers at other '\n",
    "                         'indices requires at least 2 numbers')\n",
    "\n",
    "    # We make a list with the length of the input list to\n",
    "    # hold our products\n",
    "    products_of_all_ints_except_at_index = [None] * len(int_list)\n",
    "\n",
    "    # For each integer, we find the product of all the integers\n",
    "    # before it, storing the total product so far each time\n",
    "    product_so_far = 1\n",
    "    for i in range(len(int_list)):\n",
    "        products_of_all_ints_except_at_index[i] = product_so_far\n",
    "        product_so_far *= int_list[i]\n",
    "        \n",
    "\n",
    "    # For each integer, we find the product of all the integers\n",
    "    # after it. since each index in products already has the\n",
    "    # product of all the integers before it, now we're storing\n",
    "    # the total product of all other integers\n",
    "    product_so_far = 1\n",
    "    for i in range(len(int_list) - 1, -1, -1):\n",
    "        products_of_all_ints_except_at_index[i] *= product_so_far\n",
    "        product_so_far *= int_list[i]\n",
    "       # print(products_of_all_ints_except_at_index[i], product_so_far, int_list[i])\n",
    "\n",
    "    return products_of_all_ints_except_at_index"
   ]
  },
  {
   "cell_type": "code",
   "execution_count": 25,
   "metadata": {},
   "outputs": [],
   "source": [
    "int_list = [1,7,3,4]"
   ]
  },
  {
   "cell_type": "code",
   "execution_count": 26,
   "metadata": {},
   "outputs": [
    {
     "data": {
      "text/plain": [
       "[84, 12, 28, 21]"
      ]
     },
     "execution_count": 26,
     "metadata": {},
     "output_type": "execute_result"
    }
   ],
   "source": [
    "get_products_of_all_ints_except_at_index(int_list)"
   ]
  },
  {
   "cell_type": "code",
   "execution_count": null,
   "metadata": {},
   "outputs": [],
   "source": []
  }
 ],
 "metadata": {
  "kernelspec": {
   "display_name": "Python 3",
   "language": "python",
   "name": "python3"
  },
  "language_info": {
   "codemirror_mode": {
    "name": "ipython",
    "version": 3
   },
   "file_extension": ".py",
   "mimetype": "text/x-python",
   "name": "python",
   "nbconvert_exporter": "python",
   "pygments_lexer": "ipython3",
   "version": "3.6.4"
  }
 },
 "nbformat": 4,
 "nbformat_minor": 2
}
