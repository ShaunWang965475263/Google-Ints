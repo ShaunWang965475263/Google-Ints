{
 "cells": [
  {
   "cell_type": "markdown",
   "metadata": {},
   "source": [
    "#### Your company built an in-house calendar tool called HiCal. You want to add a feature to see the times in a day when everyone is available.\n",
    "\n",
    "https://stackoverflow.com/questions/509211/understanding-pythons-slice-notation Python lists"
   ]
  },
  {
   "cell_type": "code",
   "execution_count": 13,
   "metadata": {},
   "outputs": [],
   "source": [
    "def merge_ranges(meetings):\n",
    "    # Sort by start time, sorted by default uses the first number, but can also try using key = str.lower or len.\n",
    "    sorted_meetings = sorted(meetings)\n",
    "    print(sorted_meetings)\n",
    "\n",
    "    # Initialize merged_meetings with the earliest meeting\n",
    "    merged_meetings = [sorted_meetings[0]]\n",
    "    print(merged_meetings)\n",
    "    for current_meeting_start, current_meeting_end in sorted_meetings[1:]:\n",
    "        last_merged_meeting_start, last_merged_meeting_end = merged_meetings[-1]\n",
    "\n",
    "        # If the current meeting overlaps with the last merged meeting, use the\n",
    "        # later end time of the two\n",
    "        if (current_meeting_start <= last_merged_meeting_end):\n",
    "            merged_meetings[-1] = (last_merged_meeting_start,\n",
    "                                   max(last_merged_meeting_end,\n",
    "                                       current_meeting_end))\n",
    "        else:\n",
    "            # Add the current meeting since it doesn't overlap\n",
    "            merged_meetings.append((current_meeting_start, current_meeting_end))\n",
    "        print(merged_meetings)\n",
    "    return merged_meetings"
   ]
  },
  {
   "cell_type": "code",
   "execution_count": 14,
   "metadata": {},
   "outputs": [],
   "source": [
    "meetings = [(0, 1), (3, 5), (4, 8), (10, 12), (9, 10)]"
   ]
  },
  {
   "cell_type": "code",
   "execution_count": 15,
   "metadata": {},
   "outputs": [
    {
     "name": "stdout",
     "output_type": "stream",
     "text": [
      "[(0, 1), (3, 5), (4, 8), (9, 10), (10, 12)]\n",
      "[(0, 1)]\n",
      "[(0, 1), (3, 5)]\n",
      "[(0, 1), (3, 8)]\n",
      "[(0, 1), (3, 8), (9, 10)]\n",
      "[(0, 1), (3, 8), (9, 12)]\n"
     ]
    },
    {
     "data": {
      "text/plain": [
       "[(0, 1), (3, 8), (9, 12)]"
      ]
     },
     "execution_count": 15,
     "metadata": {},
     "output_type": "execute_result"
    }
   ],
   "source": [
    "merge_ranges(meetings)"
   ]
  },
  {
   "cell_type": "markdown",
   "metadata": {},
   "source": [
    "Try it yourself."
   ]
  },
  {
   "cell_type": "code",
   "execution_count": null,
   "metadata": {},
   "outputs": [],
   "source": [
    "def merge_ranges(meetings):\n",
    "    sorted_meetings = sorted(meetings)\n",
    "    merged_meetings = meetings[0]\n",
    "    \n",
    "    \n",
    "    for current_start, current_end in sorted_meetings[1:]:\n",
    "        last_merged_meeting_start, last_merged_meeting_end = merged_meetings[-1]\n",
    "        ##."
   ]
  }
 ],
 "metadata": {
  "kernelspec": {
   "display_name": "Python 3",
   "language": "python",
   "name": "python3"
  },
  "language_info": {
   "codemirror_mode": {
    "name": "ipython",
    "version": 3
   },
   "file_extension": ".py",
   "mimetype": "text/x-python",
   "name": "python",
   "nbconvert_exporter": "python",
   "pygments_lexer": "ipython3",
   "version": "3.6.4"
  }
 },
 "nbformat": 4,
 "nbformat_minor": 2
}
