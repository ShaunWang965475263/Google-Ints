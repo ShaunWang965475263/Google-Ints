{
 "cells": [
  {
   "cell_type": "markdown",
   "metadata": {},
   "source": [
    "#### A crack team of love scientists from OkEros (a hot new dating site) have devised a way to represent dating profiles as rectangles on a two-dimensional plane.\n",
    "\n",
    "They need help writing an algorithm to find the intersection of two users' love rectangles. They suspect finding that intersection is the key to a matching algorithm so powerful it will cause an immediate acquisition by Google or Facebook or Obama or something."
   ]
  },
  {
   "cell_type": "code",
   "execution_count": 1,
   "metadata": {},
   "outputs": [],
   "source": [
    "  def find_range_overlap(point1, length1, point2, length2):\n",
    "    # Find the highest start point and lowest end point.\n",
    "    # The highest (\"rightmost\" or \"upmost\") start point is\n",
    "    # the start point of the overlap.\n",
    "    # The lowest end point is the end point of the overlap.\n",
    "    highest_start_point = max(point1, point2)\n",
    "    lowest_end_point = min(point1 + length1, point2 + length2)\n",
    "\n",
    "    # Return null overlap if there is no overlap\n",
    "    if highest_start_point >= lowest_end_point:\n",
    "        return (None, None)\n",
    "\n",
    "    # Compute the overlap length\n",
    "    overlap_length = lowest_end_point - highest_start_point\n",
    "\n",
    "    return (highest_start_point, overlap_length)\n",
    "\n",
    "\n",
    "def find_rectangular_overlap(rect1, rect2):\n",
    "    # Get the x and y overlap points and lengths\n",
    "    x_overlap_point, overlap_width  = find_range_overlap(rect1['left_x'],\n",
    "                                                         rect1['width'],\n",
    "                                                         rect2['left_x'],\n",
    "                                                         rect2['width'])\n",
    "    y_overlap_point, overlap_height = find_range_overlap(rect1['bottom_y'],\n",
    "                                                         rect1['height'],\n",
    "                                                         rect2['bottom_y'],\n",
    "                                                         rect2['height'])\n",
    "\n",
    "    # Return null rectangle if there is no overlap\n",
    "    if not overlap_width or not overlap_height:\n",
    "        return {\n",
    "            'left_x'   : None,\n",
    "            'bottom_y' : None,\n",
    "            'width'    : None,\n",
    "            'height'   : None,\n",
    "        }\n",
    "\n",
    "    return {\n",
    "        'left_x'   : x_overlap_point,\n",
    "        'bottom_y' : y_overlap_point,\n",
    "        'width'    : overlap_width,\n",
    "        'height'   : overlap_height,\n",
    "    }"
   ]
  },
  {
   "cell_type": "markdown",
   "metadata": {},
   "source": [
    "#### First breaking down into sub problems. one of r x and one for y. "
   ]
  },
  {
   "cell_type": "code",
   "execution_count": 1,
   "metadata": {},
   "outputs": [],
   "source": [
    "def find_x_overlap(x1,x2,width1,width2):\n",
    "    right_side_high = max(x1,x2)\n",
    "    left_side_len = min(x1+width1, x2+width2)\n",
    "    \n",
    "    #Now that I have the rightside high and the leftside length. I will now check if the point is > than the length or not.\n",
    "    if left_side_len < right_side_high:\n",
    "        return(null,null)\n",
    "    \n",
    "    overlap_length = left_side_len - right_side_high\n",
    "    \n",
    "    return(left_side_len, right_side_high)"
   ]
  },
  {
   "cell_type": "code",
   "execution_count": 2,
   "metadata": {},
   "outputs": [
    {
     "data": {
      "text/plain": [
       "(5, 4)"
      ]
     },
     "execution_count": 2,
     "metadata": {},
     "output_type": "execute_result"
    }
   ],
   "source": [
    "find_x_overlap(3,4,2,1)"
   ]
  },
  {
   "cell_type": "code",
   "execution_count": null,
   "metadata": {},
   "outputs": [],
   "source": []
  }
 ],
 "metadata": {
  "kernelspec": {
   "display_name": "Python 3",
   "language": "python",
   "name": "python3"
  },
  "language_info": {
   "codemirror_mode": {
    "name": "ipython",
    "version": 3
   },
   "file_extension": ".py",
   "mimetype": "text/x-python",
   "name": "python",
   "nbconvert_exporter": "python",
   "pygments_lexer": "ipython3",
   "version": "3.6.4"
  }
 },
 "nbformat": 4,
 "nbformat_minor": 2
}
