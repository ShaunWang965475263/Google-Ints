{
 "cells": [
  {
   "cell_type": "markdown",
   "metadata": {},
   "source": [
    "## Interview \n",
    "Start up companies care most about progress than perfection.\n",
    "\n",
    "Larger companies will want to test your general know-how of data structures and algorithms (“Write a function that checks if a binary tree is ‘balanced’ in O(n)O(n) ↴ time.”). They’ll care more about how you solve and optimize a problem."
   ]
  },
  {
   "cell_type": "markdown",
   "metadata": {},
   "source": [
    "#### Question 1 Suppose we could access yesterday's stock prices as a list, where:\n",
    "\n",
    "The indices are the time in minutes past trade opening time, which was 9:30am local time.\n",
    "The values are the price in dollars of Apple stock at that time.\n",
    "So if the stock cost $500 at 10:30am, stock_prices_yesterday[60] = 500.\n",
    "\n",
    "Write an efficient function that takes stock_prices_yesterday and returns the best profit I could have made from 1 purchase and 1 sale of 1 Apple stock yesterday."
   ]
  },
  {
   "cell_type": "code",
   "execution_count": 38,
   "metadata": {},
   "outputs": [],
   "source": [
    "stock_prices_yesterday = [10,7,5,4,2]"
   ]
  },
  {
   "cell_type": "markdown",
   "metadata": {},
   "source": [
    "First method, O(n^2), comparing 2 data points everytime nono."
   ]
  },
  {
   "cell_type": "code",
   "execution_count": 12,
   "metadata": {},
   "outputs": [],
   "source": [
    "    def get_max_profit(stock_prices_yesterday):\n",
    "        max_profit = 0\n",
    "\n",
    "        # Go through every time\n",
    "        for outer_time in xrange(len(stock_prices_yesterday)):\n",
    "\n",
    "        # For every time, go through every other time\n",
    "        for inner_time in xrange(len(stock_prices_yesterday)):\n",
    "            # For each pair, find the earlier and later times\n",
    "            earlier_time = min(outer_time, inner_time)\n",
    "            later_time   = max(outer_time, inner_time)\n",
    "\n",
    "            # And use those to find the earlier and later prices\n",
    "            earlier_price = stock_prices_yesterday[earlier_time]\n",
    "            later_price   = stock_prices_yesterday[later_time]\n",
    "\n",
    "            # See what our profit would be if we bought at the\n",
    "            # earlier price and sold at the later price\n",
    "            potential_profit = later_price - earlier_price\n",
    "\n",
    "            # Update max_profit if we can do better\n",
    "            max_profit = max(max_profit, potential_profit)\n",
    "\n",
    "        return max_profit"
   ]
  },
  {
   "cell_type": "markdown",
   "metadata": {},
   "source": [
    "Second method, consider only later times making sure the profit is always positive."
   ]
  },
  {
   "cell_type": "code",
   "execution_count": 21,
   "metadata": {},
   "outputs": [],
   "source": [
    "    def get_max_profit(stock_prices_yesterday):\n",
    "        max_profit = 0\n",
    "\n",
    "        # Go through every time\n",
    "        for outer_time in range(len(stock_prices_yesterday)):\n",
    "\n",
    "            # For every time, go through every other time\n",
    "            for inner_time in range(outer_time, len(stock_prices_yesterday)):\n",
    "            # For each pair, find the earlier and later times\n",
    "                earlier_time = min(outer_time, inner_time)\n",
    "                later_time   = max(outer_time, inner_time)\n",
    "\n",
    "                # And use those to find the earlier and later prices\n",
    "                earlier_price = stock_prices_yesterday[earlier_time]\n",
    "                later_price   = stock_prices_yesterday[later_time]\n",
    "\n",
    "                # See what our profit would be if we bought at the\n",
    "                # earlier price and sold at the later price\n",
    "                potential_profit = later_price - earlier_price\n",
    "\n",
    "                # Update max_profit if we can do better\n",
    "                max_profit = max(max_profit, potential_profit)\n",
    "\n",
    "        return max_profit"
   ]
  },
  {
   "cell_type": "markdown",
   "metadata": {},
   "source": [
    "Next consider keeping the minimum number throughout."
   ]
  },
  {
   "cell_type": "code",
   "execution_count": 32,
   "metadata": {},
   "outputs": [],
   "source": [
    "    def get_max_profit(stock_prices_yesterday):\n",
    "        max_profit = 0\n",
    "        min_price = stock_prices_yesterday[0] \n",
    "\n",
    "        # Go through every time\n",
    "        for current_price in range(len(stock_prices_yesterday)):\n",
    "            min_price = min(min_price, stock_prices_yesterday[current_price])\n",
    "            \n",
    "            #find the max profit\n",
    "            profit = stock_prices_yesterday[current_price] - min_price\n",
    "            max_profit = max(max_profit, profit)\n",
    "            \n",
    "        return max_profit"
   ]
  },
  {
   "cell_type": "markdown",
   "metadata": {},
   "source": [
    "Now, consider the edge cases. \n",
    "1. What is the stock goes all the way down?\n",
    "2. What if the price stays constant"
   ]
  },
  {
   "cell_type": "code",
   "execution_count": 48,
   "metadata": {},
   "outputs": [],
   "source": [
    "    def get_max_profit(stock_prices_yesterday):\n",
    "        \n",
    "        if len(stock_prices_yesterday) < 2:\n",
    "            raise ValeuError('Getting profit requries at least 2 stocks')\n",
    "        \n",
    "        # This will address the best case scenario if goes all the way down.\n",
    "        max_profit = stock_prices_yesterday[1] - stock_prices_yesterday[0]   \n",
    "        min_price = stock_prices_yesterday[0] \n",
    "\n",
    "        # Go through every time\n",
    "        for current_time in range(1,len(stock_prices_yesterday)):\n",
    "            \n",
    "            current_price = stock_prices_yesterday[current_time]\n",
    "            \n",
    "            \n",
    "            \n",
    "            #find the max profit\n",
    "            profit =  current_price  - min_price\n",
    "            max_profit = max(max_profit, profit)\n",
    "            min_price = min(min_price, current_price)\n",
    "            \n",
    "        return max_profit"
   ]
  },
  {
   "cell_type": "code",
   "execution_count": 49,
   "metadata": {},
   "outputs": [
    {
     "data": {
      "text/plain": [
       "-1"
      ]
     },
     "execution_count": 49,
     "metadata": {},
     "output_type": "execute_result"
    }
   ],
   "source": [
    "get_max_profit(stock_prices_yesterday)"
   ]
  },
  {
   "cell_type": "code",
   "execution_count": null,
   "metadata": {},
   "outputs": [],
   "source": []
  }
 ],
 "metadata": {
  "kernelspec": {
   "display_name": "Python 3",
   "language": "python",
   "name": "python3"
  },
  "language_info": {
   "codemirror_mode": {
    "name": "ipython",
    "version": 3
   },
   "file_extension": ".py",
   "mimetype": "text/x-python",
   "name": "python",
   "nbconvert_exporter": "python",
   "pygments_lexer": "ipython3",
   "version": "3.6.4"
  }
 },
 "nbformat": 4,
 "nbformat_minor": 2
}
