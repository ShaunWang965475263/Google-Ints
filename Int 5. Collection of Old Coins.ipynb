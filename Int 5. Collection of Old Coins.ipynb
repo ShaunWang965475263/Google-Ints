{
 "cells": [
  {
   "cell_type": "markdown",
   "metadata": {},
   "source": [
    "### They found out you're a programmer and asked you to solve something they've been wondering for a long time.\n",
    "\n",
    "Write a function that, given:\n",
    "\n",
    "an amount of money\n",
    "a list of coin denominations\n",
    "computes the number of ways to make the amount of money with coins of the available denominations.\n",
    "\n",
    "https://www.youtube.com/watch?v=jaNZ83Q3QGc\n",
    "\n",
    "combinations[i] += combinations[i - coin];"
   ]
  },
  {
   "cell_type": "code",
   "execution_count": 20,
   "metadata": {},
   "outputs": [],
   "source": [
    "  def change_possibilities_top_down(amount_left, denominations, current_index=0):\n",
    "    # Base cases:\n",
    "    # We hit the amount spot on. yes!\n",
    "    if amount_left == 0:\n",
    "        return 1\n",
    "\n",
    "    # We overshot the amount left (used too many coins)\n",
    "    if amount_left < 0:\n",
    "        return 0\n",
    "\n",
    "    # We're out of denominations\n",
    "    if current_index == len(denominations):\n",
    "        return 0\n",
    "\n",
    "    print (\"Amount left\", amount_left, \" with \" , denominations[current_index:])  \n",
    "\n",
    "    # Choose a current coin\n",
    "    current_coin = denominations[current_index]\n",
    "    print(\"Current_coin to use \", current_coin)\n",
    "\n",
    "    # See how many possibilities we can get\n",
    "    # for each number of times to use current_coin\n",
    "    num_possibilities = 0\n",
    "    while amount_left >= 0:\n",
    "        num_possibilities += change_possibilities_top_down(\n",
    "            amount_left,\n",
    "            denominations,\n",
    "            current_index + 1,\n",
    "        )\n",
    "        amount_left -= current_coin\n",
    "\n",
    "    return num_possibilities"
   ]
  },
  {
   "cell_type": "code",
   "execution_count": 21,
   "metadata": {},
   "outputs": [],
   "source": [
    "amount_left = 10\n",
    "denominations = [1,2,3]"
   ]
  },
  {
   "cell_type": "code",
   "execution_count": 22,
   "metadata": {},
   "outputs": [
    {
     "name": "stdout",
     "output_type": "stream",
     "text": [
      "Amount left 10  with  [1, 2, 3]\n",
      "Current_coin to use  1\n",
      "Amount left 10  with  [2, 3]\n",
      "Current_coin to use  2\n",
      "Amount left 10  with  [3]\n",
      "Current_coin to use  3\n",
      "Amount left 8  with  [3]\n",
      "Current_coin to use  3\n",
      "Amount left 6  with  [3]\n",
      "Current_coin to use  3\n",
      "Amount left 4  with  [3]\n",
      "Current_coin to use  3\n",
      "Amount left 2  with  [3]\n",
      "Current_coin to use  3\n",
      "Amount left 9  with  [2, 3]\n",
      "Current_coin to use  2\n",
      "Amount left 9  with  [3]\n",
      "Current_coin to use  3\n",
      "Amount left 7  with  [3]\n",
      "Current_coin to use  3\n",
      "Amount left 5  with  [3]\n",
      "Current_coin to use  3\n",
      "Amount left 3  with  [3]\n",
      "Current_coin to use  3\n",
      "Amount left 1  with  [3]\n",
      "Current_coin to use  3\n",
      "Amount left 8  with  [2, 3]\n",
      "Current_coin to use  2\n",
      "Amount left 8  with  [3]\n",
      "Current_coin to use  3\n",
      "Amount left 6  with  [3]\n",
      "Current_coin to use  3\n",
      "Amount left 4  with  [3]\n",
      "Current_coin to use  3\n",
      "Amount left 2  with  [3]\n",
      "Current_coin to use  3\n",
      "Amount left 7  with  [2, 3]\n",
      "Current_coin to use  2\n",
      "Amount left 7  with  [3]\n",
      "Current_coin to use  3\n",
      "Amount left 5  with  [3]\n",
      "Current_coin to use  3\n",
      "Amount left 3  with  [3]\n",
      "Current_coin to use  3\n",
      "Amount left 1  with  [3]\n",
      "Current_coin to use  3\n",
      "Amount left 6  with  [2, 3]\n",
      "Current_coin to use  2\n",
      "Amount left 6  with  [3]\n",
      "Current_coin to use  3\n",
      "Amount left 4  with  [3]\n",
      "Current_coin to use  3\n",
      "Amount left 2  with  [3]\n",
      "Current_coin to use  3\n",
      "Amount left 5  with  [2, 3]\n",
      "Current_coin to use  2\n",
      "Amount left 5  with  [3]\n",
      "Current_coin to use  3\n",
      "Amount left 3  with  [3]\n",
      "Current_coin to use  3\n",
      "Amount left 1  with  [3]\n",
      "Current_coin to use  3\n",
      "Amount left 4  with  [2, 3]\n",
      "Current_coin to use  2\n",
      "Amount left 4  with  [3]\n",
      "Current_coin to use  3\n",
      "Amount left 2  with  [3]\n",
      "Current_coin to use  3\n",
      "Amount left 3  with  [2, 3]\n",
      "Current_coin to use  2\n",
      "Amount left 3  with  [3]\n",
      "Current_coin to use  3\n",
      "Amount left 1  with  [3]\n",
      "Current_coin to use  3\n",
      "Amount left 2  with  [2, 3]\n",
      "Current_coin to use  2\n",
      "Amount left 2  with  [3]\n",
      "Current_coin to use  3\n",
      "Amount left 1  with  [2, 3]\n",
      "Current_coin to use  2\n",
      "Amount left 1  with  [3]\n",
      "Current_coin to use  3\n"
     ]
    },
    {
     "data": {
      "text/plain": [
       "14"
      ]
     },
     "execution_count": 22,
     "metadata": {},
     "output_type": "execute_result"
    }
   ],
   "source": [
    "change_possibilities_top_down(amount_left, denominations, current_index=0)"
   ]
  },
  {
   "cell_type": "code",
   "execution_count": 70,
   "metadata": {},
   "outputs": [],
   "source": [
    "def change_possibilities_bottom_up(amount, denominations):\n",
    "\n",
    "    combinations = [0] * (amount+1)\n",
    "    combinations[0] = 1\n",
    "        \n",
    "        #Start with the first number in the denomination\n",
    "    for coin in denominations:\n",
    "        for higher_amt in range(coin, amount +1):#Especially important here, the amount here starts with the coin amount.\n",
    "             combinations[higher_amt] += combinations[higher_amt - coin]\n",
    "                \n",
    "    return combinations[amount]"
   ]
  },
  {
   "cell_type": "code",
   "execution_count": 71,
   "metadata": {},
   "outputs": [],
   "source": [
    "amount = 12\n",
    "denominations = [1,2,5]"
   ]
  },
  {
   "cell_type": "code",
   "execution_count": 72,
   "metadata": {},
   "outputs": [
    {
     "data": {
      "text/plain": [
       "13"
      ]
     },
     "execution_count": 72,
     "metadata": {},
     "output_type": "execute_result"
    }
   ],
   "source": [
    "change_possibilities_bottom_up(amount, denominations)"
   ]
  },
  {
   "cell_type": "code",
   "execution_count": 58,
   "metadata": {},
   "outputs": [],
   "source": [
    "def change_possibilities_bottom_up(amount, denominations):\n",
    "    ways_of_doing_n_cents = [0] * (amount + 1)\n",
    "    ways_of_doing_n_cents[0] = 1\n",
    "\n",
    "    for coin in denominations:\n",
    "\n",
    "        for higher_amount in range(coin, amount + 1):\n",
    "            higher_amount_remainder = higher_amount - coin\n",
    "            ways_of_doing_n_cents[higher_amount] += (\n",
    "                ways_of_doing_n_cents[higher_amount_remainder]\n",
    "            )\n",
    "\n",
    "    return ways_of_doing_n_cents[amount]\n"
   ]
  },
  {
   "cell_type": "code",
   "execution_count": 60,
   "metadata": {},
   "outputs": [
    {
     "data": {
      "text/plain": [
       "13"
      ]
     },
     "execution_count": 60,
     "metadata": {},
     "output_type": "execute_result"
    }
   ],
   "source": [
    "\n",
    "amount = 12\n",
    "denominations = [1,2,5]\n",
    "change_possibilities_bottom_up(amount, denominations)"
   ]
  },
  {
   "cell_type": "code",
   "execution_count": null,
   "metadata": {},
   "outputs": [],
   "source": []
  },
  {
   "cell_type": "code",
   "execution_count": null,
   "metadata": {},
   "outputs": [],
   "source": []
  }
 ],
 "metadata": {
  "kernelspec": {
   "display_name": "Python 3",
   "language": "python",
   "name": "python3"
  },
  "language_info": {
   "codemirror_mode": {
    "name": "ipython",
    "version": 3
   },
   "file_extension": ".py",
   "mimetype": "text/x-python",
   "name": "python",
   "nbconvert_exporter": "python",
   "pygments_lexer": "ipython3",
   "version": "3.6.4"
  }
 },
 "nbformat": 4,
 "nbformat_minor": 2
}
