{
 "cells": [
  {
   "cell_type": "markdown",
   "metadata": {},
   "source": [
    "Given a list of integers, find the highest product you can get from three of the integers.\n",
    "\n",
    "This question requires the user to find the highest, lowest, highest of the 2 products, and lowest of 2 products... \n",
    "Then use this information to the find the largest 3 numbers."
   ]
  },
  {
   "cell_type": "code",
   "execution_count": 7,
   "metadata": {},
   "outputs": [],
   "source": [
    "def highest_product_of_3(list_of_ints):\n",
    "    if len(list_of_ints) < 3:\n",
    "        raise valueError('Need at least 3 items in the list')\n",
    "\n",
    "    #initialization\n",
    "    highest = max(list_of_ints[0], list_of_ints[1])\n",
    "    lowest  = min(list_of_ints[0], list_of_ints[1])\n",
    "    highest_product_of_2 = list_of_ints[0] * list_of_ints[1]\n",
    "    lowest_product_of_2  = list_of_ints[0] * list_of_ints[1]\n",
    "\n",
    "    highest_product_of_3 = list_of_ints[0] * list_of_ints[1] * list_of_ints[2]\n",
    "\n",
    "    # Walk through items, starting at index 2\n",
    "    for i in range(2, len(list_of_ints)):\n",
    "        current = list_of_ints[i]\n",
    "\n",
    "        # Do we have a new highest product of 3?\n",
    "        # It's either the current highest,\n",
    "        # or the current times the highest product of two\n",
    "        # or the current times the lowest product of two\n",
    "        highest_product_of_3 = max(highest_product_of_3,\n",
    "                                   current * highest_product_of_2,\n",
    "                                   current * lowest_product_of_2)\n",
    "\n",
    "        # Do we have a new highest product of two?\n",
    "        highest_product_of_2 = max(highest_product_of_2,\n",
    "                                   current * highest,\n",
    "                                   current * lowest)\n",
    "\n",
    "        # Do we have a new lowest product of two?\n",
    "        lowest_product_of_2 = min(lowest_product_of_2,\n",
    "                                  current * highest,\n",
    "                                  current * lowest)\n",
    "\n",
    "        # Do we have a new highest?\n",
    "        highest = max(highest, current)\n",
    "\n",
    "        # Do we have a new lowest?\n",
    "        lowest = min(lowest, current)\n",
    "\n",
    "    return highest_product_of_3"
   ]
  },
  {
   "cell_type": "code",
   "execution_count": 8,
   "metadata": {},
   "outputs": [],
   "source": [
    "list_of_ints = [-1,-5,6,8,9,-10]"
   ]
  },
  {
   "cell_type": "code",
   "execution_count": 9,
   "metadata": {},
   "outputs": [
    {
     "data": {
      "text/plain": [
       "450"
      ]
     },
     "execution_count": 9,
     "metadata": {},
     "output_type": "execute_result"
    }
   ],
   "source": [
    "highest_product_of_3(list_of_ints)"
   ]
  },
  {
   "cell_type": "code",
   "execution_count": null,
   "metadata": {},
   "outputs": [],
   "source": []
  }
 ],
 "metadata": {
  "kernelspec": {
   "display_name": "Python 3",
   "language": "python",
   "name": "python3"
  },
  "language_info": {
   "codemirror_mode": {
    "name": "ipython",
    "version": 3
   },
   "file_extension": ".py",
   "mimetype": "text/x-python",
   "name": "python",
   "nbconvert_exporter": "python",
   "pygments_lexer": "ipython3",
   "version": "3.6.4"
  }
 },
 "nbformat": 4,
 "nbformat_minor": 2
}
