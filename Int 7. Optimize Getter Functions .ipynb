{
 "cells": [
  {
   "cell_type": "markdown",
   "metadata": {},
   "source": [
    "#### You decide to test if your oddly-mathematical heating company is fulfilling its All-Time Max, Min, Mean and Mode Temperature Guarantee™.\n",
    "\n",
    "Write a class TempTracker with these methods:\n",
    "\n",
    "insert()—records a new temperature\n",
    "\n",
    "get_max()—returns the highest temp we've seen so far\n",
    "\n",
    "get_min()—returns the lowest temp we've seen so far\n",
    "\n",
    "get_mean()—returns the mean ↴ of all temps we've seen so far\n",
    "\n",
    "get_mode()—returns a mode ↴ of all temps we've seen so far\n",
    "\n"
   ]
  },
  {
   "cell_type": "markdown",
   "metadata": {},
   "source": [
    "The first step is to find the min and max while inserting\n",
    "Same concepts apply for mean and mode. \n",
    "\n",
    "Before inserting, _init_ all the getter variables.  "
   ]
  },
  {
   "cell_type": "code",
   "execution_count": 1,
   "metadata": {},
   "outputs": [],
   "source": [
    "class TempTracker(object):\n",
    "\n",
    "    def __init__(self):\n",
    "        self.min_temp = float('inf')\n",
    "        self.max_temp = float('-inf')\n",
    "\n",
    "    def insert(self, temperature):\n",
    "        if temperature > self.max_temp:\n",
    "            self.max_temp = temperature\n",
    "        if temperature < self.min_temp:\n",
    "            self.min_temp = temperature\n",
    "\n",
    "    def get_max(self):\n",
    "        return self.max_temp\n",
    "\n",
    "    def get_min(self):\n",
    "        return self.min_temp"
   ]
  },
  {
   "cell_type": "markdown",
   "metadata": {},
   "source": [
    "#### For mean, mode same process apply.\n",
    "For mean, you need the sum and the number of readings\n",
    "For mode, you need number of occurances, and max occurances."
   ]
  },
  {
   "cell_type": "code",
   "execution_count": 7,
   "metadata": {},
   "outputs": [],
   "source": [
    "class TempTracker(object):\n",
    "\n",
    "    def __init__(self):\n",
    "        \n",
    "        #For mode, come up with an arbitrary number here. In real life, you better know how to find the length of the object.\n",
    "        self.occurance = [0] * 111\n",
    "        self.max_occurance = 0 \n",
    "        self.mode = null\n",
    "        \n",
    "        #For Mean\n",
    "        self.num = 0\n",
    "        self.sum = 0\n",
    "        self.mean = null\n",
    "        \n",
    "        #For min and max\n",
    "        self.min_temp = float('inf')\n",
    "        self.max_temp = float('-inf')\n",
    "\n",
    "    def insert(self, temperature):\n",
    "        #for mode\n",
    "        self.occurance[temperature] += 1\n",
    "        if self.occurance[temperature] > self.max_occurance:\n",
    "            self.max_occurance = self.occurance[temperature]\n",
    "            self.mode = temperature\n",
    "        \n",
    "        #for mean\n",
    "        self.num += 1\n",
    "        self.sum += temperature\n",
    "        self.mean = self.sum/self.num\n",
    "        \n",
    "        #for max and min\n",
    "        if temperature > self.max_temp:\n",
    "            self.max_temp = temperature\n",
    "        if temperature < self.min_temp:\n",
    "            self.min_temp = temperature\n",
    "\n",
    "    def get_max(self):\n",
    "        return self.max_temp\n",
    "\n",
    "    def get_min(self):\n",
    "        return self.min_temp\n",
    "    \n",
    "    def get_mean(self):\n",
    "        return self.mean \n",
    "    \n",
    "    def get_model(self):\n",
    "        return self.mode "
   ]
  },
  {
   "cell_type": "code",
   "execution_count": null,
   "metadata": {},
   "outputs": [],
   "source": []
  }
 ],
 "metadata": {
  "kernelspec": {
   "display_name": "Python 3",
   "language": "python",
   "name": "python3"
  },
  "language_info": {
   "codemirror_mode": {
    "name": "ipython",
    "version": 3
   },
   "file_extension": ".py",
   "mimetype": "text/x-python",
   "name": "python",
   "nbconvert_exporter": "python",
   "pygments_lexer": "ipython3",
   "version": "3.6.4"
  }
 },
 "nbformat": 4,
 "nbformat_minor": 2
}
