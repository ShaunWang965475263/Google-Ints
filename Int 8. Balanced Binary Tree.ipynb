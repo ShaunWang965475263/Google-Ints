{
 "cells": [
  {
   "cell_type": "markdown",
   "metadata": {},
   "source": [
    "Write a function to see if a binary tree ↴ is \"superbalanced\" (a new tree property we just made up).\n",
    "\n",
    "A tree is \"superbalanced\" if the difference between the depths of any two leaf nodes ↴ is no greater than one.\n",
    "\n",
    "An example is showing below."
   ]
  },
  {
   "cell_type": "code",
   "execution_count": 2,
   "metadata": {},
   "outputs": [],
   "source": [
    "class BinaryTreeNode(object):\n",
    "\n",
    "    def __init__(self, value):\n",
    "        self.value = value\n",
    "        self.left  = None\n",
    "        self.right = None\n",
    "\n",
    "    def insert_left(self, value):\n",
    "        self.left = BinaryTreeNode(value)\n",
    "        return self.left\n",
    "\n",
    "    def insert_right(self, value):\n",
    "        self.right = BinaryTreeNode(value)\n",
    "        return self.right"
   ]
  },
  {
   "cell_type": "markdown",
   "metadata": {},
   "source": [
    "ACtually not even sure what Binary tree is so let's look at the solution\n"
   ]
  },
  {
   "cell_type": "code",
   "execution_count": 3,
   "metadata": {},
   "outputs": [],
   "source": [
    "  def is_balanced(tree_root):\n",
    "    # A tree with no nodes is superbalanced, since there are no leaves!\n",
    "    if tree_root is None:\n",
    "        return True\n",
    "\n",
    "    # We short-circuit as soon as we find more than 2\n",
    "    depths = []\n",
    "\n",
    "    # We'll treat this list as a stack that will store tuples of (node, depth)\n",
    "    nodes = []\n",
    "    nodes.append((tree_root, 0))\n",
    "\n",
    "    while len(nodes):\n",
    "        # Pop a node and its depth from the top of our stack\n",
    "        node, depth = nodes.pop()\n",
    "\n",
    "        # Case: we found a leaf\n",
    "        if (not node.left) and (not node.right):\n",
    "            # We only care if it's a new depth\n",
    "            if depth not in depths:\n",
    "                depths.append(depth)\n",
    "\n",
    "                # Two ways we might now have an unbalanced tree:\n",
    "                #   1) more than 2 different leaf depths\n",
    "                #   2) 2 leaf depths that are more than 1 apart\n",
    "                if ((len(depths) > 2) or\n",
    "                        (len(depths) == 2 and abs(depths[0] - depths[1] > 1))):\n",
    "                    return False\n",
    "        else:\n",
    "            # Case: this isn't a leaf - keep stepping down\n",
    "            if node.left:\n",
    "                nodes.append((node.left, depth + 1))\n",
    "            if node.right:\n",
    "                nodes.append((node.right, depth + 1))\n",
    "\n",
    "    return True"
   ]
  },
  {
   "cell_type": "code",
   "execution_count": null,
   "metadata": {},
   "outputs": [],
   "source": []
  }
 ],
 "metadata": {
  "kernelspec": {
   "display_name": "Python 3",
   "language": "python",
   "name": "python3"
  },
  "language_info": {
   "codemirror_mode": {
    "name": "ipython",
    "version": 3
   },
   "file_extension": ".py",
   "mimetype": "text/x-python",
   "name": "python",
   "nbconvert_exporter": "python",
   "pygments_lexer": "ipython3",
   "version": "3.6.4"
  }
 },
 "nbformat": 4,
 "nbformat_minor": 2
}
